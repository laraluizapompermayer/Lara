{
  "nbformat": 4,
  "nbformat_minor": 0,
  "metadata": {
    "colab": {
      "name": "Atividade 1- Lara Luiza",
      "provenance": [],
      "authorship_tag": "ABX9TyMmwaHGviJ/rHg2MVXcZQ9p",
      "include_colab_link": true
    },
    "kernelspec": {
      "name": "python3",
      "display_name": "Python 3"
    }
  },
  "cells": [
    {
      "cell_type": "markdown",
      "metadata": {
        "id": "view-in-github",
        "colab_type": "text"
      },
      "source": [
        "<a href=\"https://colab.research.google.com/github/laraluizapompermayer/Lara/blob/main/Atividade_1_Lara_Luiza.ipynb\" target=\"_parent\"><img src=\"https://colab.research.google.com/assets/colab-badge.svg\" alt=\"Open In Colab\"/></a>"
      ]
    },
    {
      "cell_type": "code",
      "metadata": {
        "colab": {
          "base_uri": "https://localhost:8080/",
          "height": 162
        },
        "id": "E41kEYykh9MT",
        "outputId": "c9dfe363-3bb4-473f-ae4c-061dddb2969e"
      },
      "source": [
        "lara-luiza-pompermayer-atividade.ipynb"
      ],
      "execution_count": null,
      "outputs": [
        {
          "output_type": "error",
          "ename": "NameError",
          "evalue": "ignored",
          "traceback": [
            "\u001b[0;31m---------------------------------------------------------------------------\u001b[0m",
            "\u001b[0;31mNameError\u001b[0m                                 Traceback (most recent call last)",
            "\u001b[0;32m<ipython-input-6-06348157f261>\u001b[0m in \u001b[0;36m<module>\u001b[0;34m()\u001b[0m\n\u001b[0;32m----> 1\u001b[0;31m \u001b[0mlara\u001b[0m\u001b[0;34m-\u001b[0m\u001b[0mluiza\u001b[0m\u001b[0;34m-\u001b[0m\u001b[0mpompermayer\u001b[0m\u001b[0;34m-\u001b[0m\u001b[0matividade\u001b[0m\u001b[0;34m.\u001b[0m\u001b[0mipynb\u001b[0m\u001b[0;34m\u001b[0m\u001b[0;34m\u001b[0m\u001b[0m\n\u001b[0m",
            "\u001b[0;31mNameError\u001b[0m: name 'lara' is not defined"
          ]
        }
      ]
    },
    {
      "cell_type": "markdown",
      "metadata": {
        "id": "JldHcUlQkVas"
      },
      "source": [
        "# Nova seção"
      ]
    },
    {
      "cell_type": "markdown",
      "metadata": {
        "id": "Pj3wcslriXNj"
      },
      "source": [
        "# Lara\n",
        "Olá, Sou a Lara Pompermayer, engenheira ambiental, mineira de coração e apaixonada por Belo Horizonte.\n",
        "Aluna do programa de doutorado na UFF em biogeoquímica. O principal objetivo da minha pesquisa é estudar microrganismos efetivos para controle da poluição de rios, lagoas e oceanos.\n",
        "Sou apaixonada por música, cantar, ouvir, sentir. Sou parte daquela parcela da população que se arrepia ouvindo músicas. Acho que esse é um dos \"poderes\" do ser humano mais impressionante, juntar notas e formar uma melodia. Talvez na mesma intensidade, está a minha paixão pela natureza, em toda sua magnitude, é como uma mãe que cuida do filho, e nós? Háaa, nós como aqueles filhos que não dão valor ao que tem. Mas já era de se esperar né?! Engenheria ambiental!\n",
        "No tempo livre aproveito para apreciar a presença daqueles que amo. Amo ouvir histórias como se fossem personagem de um belo enredo que teve início, meio e um dia o fim. Quais histórias devo deixar de recordação, é disso que se trata a vida, ser lembrada com carinho.\n",
        "Sou independente, forte, dedicada, organizada.  Gosto de escrever, de ouvir, ler, cozinhar, VIVER."
      ]
    }
  ]
}