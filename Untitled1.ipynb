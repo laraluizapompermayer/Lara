{
  "nbformat": 4,
  "nbformat_minor": 0,
  "metadata": {
    "colab": {
      "name": "Untitled1.ipynb",
      "provenance": [],
      "authorship_tag": "ABX9TyPi4Nr+mdx5yiiP8zVYBsvm",
      "include_colab_link": true
    },
    "kernelspec": {
      "name": "python3",
      "display_name": "Python 3"
    }
  },
  "cells": [
    {
      "cell_type": "markdown",
      "metadata": {
        "id": "view-in-github",
        "colab_type": "text"
      },
      "source": [
        "<a href=\"https://colab.research.google.com/github/laraluizapompermayer/Lara/blob/main/Untitled1.ipynb\" target=\"_parent\"><img src=\"https://colab.research.google.com/assets/colab-badge.svg\" alt=\"Open In Colab\"/></a>"
      ]
    },
    {
      "cell_type": "code",
      "metadata": {
        "id": "E41kEYykh9MT"
      },
      "source": [
        "lara-atividade-01.ipynb"
      ],
      "execution_count": null,
      "outputs": []
    },
    {
      "cell_type": "markdown",
      "metadata": {
        "id": "Pj3wcslriXNj"
      },
      "source": [
        "# Lara\r\n",
        "Olá, Sou a Lara Pompermayer, engenheira ambiental, mineira de coração e apaixonada por Belo Horizonte.\r\n",
        "Aluna do programa de doutorado na UFF em biogeoquímica. O principal objetivo da minha pesquisa é estudar microrganismos efetivos para controle da poluição de rios, lagoas e oceanos.\r\n",
        "Sou apaixonada por música, cantar, ouvir, sentir. Sou parte daquela parcela da população que se arrepia ouvindo músicas. Acho que esse é um dos \"poderes\" do ser humano mais impressionante, juntar notas e formar uma melodia. Talvez na mesma intensidade, está a minha paixão pela natureza, em toda sua magnitude, é como uma mãe que cuida do filho, e nós? Háaa, nós como aqueles filhos que não dão valor ao que tem. Mas já era de se esperar né?! Engenheria ambiental!\r\n",
        "No tempo livre aproveito para apreciar a presença daqueles que amo. Amo ouvir histórias como se fossem personagem de um belo enredo que teve início, meio e um dia o fim. Quais histórias devo deixar de recordação, é disso que se trata a vida, ser lembrada com carinho.\r\n",
        "Sou independente, forte, dedicada, organizada.  Gosto de escrever, de ouvir, ler, cozinhar, VIVER."
      ]
    }
  ]
}