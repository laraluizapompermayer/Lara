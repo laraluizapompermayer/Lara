{
  "nbformat": 4,
  "nbformat_minor": 0,
  "metadata": {
    "colab": {
      "name": "Atividade-2-LaraLuiza",
      "provenance": [],
      "toc_visible": true,
      "authorship_tag": "ABX9TyP9tGYuxm0cfPrj+xmuUrrf",
      "include_colab_link": true
    },
    "kernelspec": {
      "name": "python3",
      "display_name": "Python 3"
    },
    "language_info": {
      "name": "python"
    }
  },
  "cells": [
    {
      "cell_type": "markdown",
      "metadata": {
        "id": "view-in-github",
        "colab_type": "text"
      },
      "source": [
        "<a href=\"https://colab.research.google.com/github/laraluizapompermayer/Lara/blob/main/Atividade_2_LaraLuiza.ipynb\" target=\"_parent\"><img src=\"https://colab.research.google.com/assets/colab-badge.svg\" alt=\"Open In Colab\"/></a>"
      ]
    },
    {
      "cell_type": "code",
      "metadata": {
        "id": "ZLHMejwBb-3E"
      },
      "source": [
        "Dias vividos por Lara Luiza"
      ],
      "execution_count": null,
      "outputs": []
    },
    {
      "cell_type": "code",
      "metadata": {
        "colab": {
          "base_uri": "https://localhost:8080/"
        },
        "id": "rL6d8DpwcDXv",
        "outputId": "fcf86db8-7f43-4243-c23b-fa9e850055c1"
      },
      "source": [
        "#ano_1995\n",
        "ano_1995 = (20+30+31+30+31)\n",
        "\n",
        "print(ano_1995)"
      ],
      "execution_count": null,
      "outputs": [
        {
          "output_type": "stream",
          "text": [
            "142\n"
          ],
          "name": "stdout"
        }
      ]
    },
    {
      "cell_type": "code",
      "metadata": {
        "colab": {
          "base_uri": "https://localhost:8080/"
        },
        "id": "_8FUA8E2ct7t",
        "outputId": "7bfcbf25-9f59-4f4b-e3e8-9753335887a2"
      },
      "source": [
        "#lista_de_anos\n",
        "\n",
        "ano1996 = 366\n",
        "ano1997 = 365\n",
        "ano1998 = 365\n",
        "ano1999 = 365\n",
        "ano2000 = 366\n",
        "ano2001 = 365\n",
        "ano2002 = 365\n",
        "ano2003 = 365\n",
        "ano2004 = 366\n",
        "ano2005 = 365\n",
        "ano2006 = 365\n",
        "ano2007 = 365\n",
        "ano2008 = 366\n",
        "ano2009 = 365\n",
        "ano2010 = 365\n",
        "ano2011 = 365\n",
        "ano2012 = 366\n",
        "ano2013 = 365\n",
        "ano2014 = 365\n",
        "ano2015 = 365\n",
        "ano2016 = 366\n",
        "ano2017 = 365\n",
        "ano2018 = 365\n",
        "ano2019 = 365\n",
        "ano2020 = 366\n",
        "anos = (ano1996, ano1997, ano1998, ano1999, ano2000, ano2001, ano2002, ano2003, ano2004, ano2005, ano2006, ano2007, ano2008, ano2009, ano2010, ano2011, ano2012, ano2013, ano2014, ano2015, ano2016, ano2017, ano2018, ano2019, ano2020)\n",
        "print (anos)"
      ],
      "execution_count": null,
      "outputs": [
        {
          "output_type": "stream",
          "text": [
            "(366, 365, 365, 365, 366, 365, 365, 365, 366, 365, 365, 365, 366, 365, 365, 365, 366, 365, 365, 365, 366, 365, 365, 365, 366)\n"
          ],
          "name": "stdout"
        }
      ]
    },
    {
      "cell_type": "code",
      "metadata": {
        "colab": {
          "base_uri": "https://localhost:8080/"
        },
        "id": "nZSTmmSsdCzN",
        "outputId": "bf709f88-292d-47a1-a7b7-2349c4cd93da"
      },
      "source": [
        "#soma_de_anos\n",
        "soma_de_anos = (ano1996 + ano1997 + ano1998 + ano1999 + ano2000 + ano2001 + ano2002 + ano2003 + ano2004 + ano2005 + ano2006 + ano2007 + ano2008 + ano2009 + ano2010 + ano2011 + ano2012 + ano2013 + ano2014 + ano2015 + ano2016 + ano2017 + ano2018 + ano2019 + ano2020)\n",
        "print(soma_de_anos)"
      ],
      "execution_count": null,
      "outputs": [
        {
          "output_type": "stream",
          "text": [
            "9132\n"
          ],
          "name": "stdout"
        }
      ]
    },
    {
      "cell_type": "code",
      "metadata": {
        "colab": {
          "base_uri": "https://localhost:8080/"
        },
        "id": "3lUHiNc5jc07",
        "outputId": "5a2d0082-8479-47de-feda-6cd3b7a909ae"
      },
      "source": [
        "#ultimo_ano_2021\n",
        "ultimo_ano_2021 = (31+28+23)\n",
        "print(ultimo_ano_2021)"
      ],
      "execution_count": null,
      "outputs": [
        {
          "output_type": "stream",
          "text": [
            "82\n"
          ],
          "name": "stdout"
        }
      ]
    },
    {
      "cell_type": "code",
      "metadata": {
        "colab": {
          "base_uri": "https://localhost:8080/"
        },
        "id": "JovBZisFj6_3",
        "outputId": "861fbd05-8e4c-47f8-a627-7af59bfae70e"
      },
      "source": [
        "#dias_vividos\n",
        "dias_vividos = (ano_1995 + soma_de_anos + ultimo_ano_2021)\n",
        "print(dias_vividos)"
      ],
      "execution_count": null,
      "outputs": [
        {
          "output_type": "stream",
          "text": [
            "9356\n"
          ],
          "name": "stdout"
        }
      ]
    },
    {
      "cell_type": "markdown",
      "metadata": {
        "id": "qEtOGLMcl2n-"
      },
      "source": [
        "# Segunda Parte"
      ]
    },
    {
      "cell_type": "code",
      "metadata": {
        "colab": {
          "base_uri": "https://localhost:8080/"
        },
        "id": "uE735NnA6XS0",
        "outputId": "c1c0d317-cbed-4a98-9f37-9f34a900e56c"
      },
      "source": [
        "# import necessary Python packages\n",
        "import os\n",
        "import numpy as np\n",
        "\n",
        "print('import of packages successful')"
      ],
      "execution_count": 30,
      "outputs": [
        {
          "output_type": "stream",
          "text": [
            "import of packages successful\n"
          ],
          "name": "stdout"
        }
      ]
    },
    {
      "cell_type": "code",
      "metadata": {
        "colab": {
          "base_uri": "https://localhost:8080/"
        },
        "id": "6_1OJhQ86dK7",
        "outputId": "6976f4b1-dd68-42ab-de91-21893828aecf"
      },
      "source": [
        "# import necessary Python packages\n",
        "import os\n",
        "import numpy as np\n",
        "import matplotlib.pyplot as plt\n",
        "\n",
        "print('import of packages successful')"
      ],
      "execution_count": 31,
      "outputs": [
        {
          "output_type": "stream",
          "text": [
            "import of packages successful\n"
          ],
          "name": "stdout"
        }
      ]
    },
    {
      "cell_type": "code",
      "metadata": {
        "colab": {
          "base_uri": "https://localhost:8080/"
        },
        "id": "6325UMgTtYcJ",
        "outputId": "3cf5d501-fd82-44f6-f516-57cc73d31d78"
      },
      "source": [
        "# import\n",
        "import matplotlib.pyplot as plt\n",
        "\n",
        "print('import of packages successful')"
      ],
      "execution_count": 32,
      "outputs": [
        {
          "output_type": "stream",
          "text": [
            "import of packages successful\n"
          ],
          "name": "stdout"
        }
      ]
    },
    {
      "cell_type": "code",
      "metadata": {
        "colab": {
          "base_uri": "https://localhost:8080/"
        },
        "id": "FToPbEkpuRSz",
        "outputId": "f8e45309-c920-49c7-c202-14058680230f"
      },
      "source": [
        "#num_tel\n",
        "num_tel = (9,8,9,5,1,6,0,9,6)\n",
        "print(num_tel)"
      ],
      "execution_count": 33,
      "outputs": [
        {
          "output_type": "stream",
          "text": [
            "(9, 8, 9, 5, 1, 6, 0, 9, 6)\n"
          ],
          "name": "stdout"
        }
      ]
    },
    {
      "cell_type": "code",
      "metadata": {
        "colab": {
          "base_uri": "https://localhost:8080/"
        },
        "id": "NgQcQshYmVxX",
        "outputId": "07195a18-a893-4b16-a139-aa9e44e635b5"
      },
      "source": [
        "#num_tel_ddd\n",
        "num_tel_ddd = (3,1,9,8,9,5,1,6,0,9,6)\n",
        "print(num_tel_ddd)"
      ],
      "execution_count": 34,
      "outputs": [
        {
          "output_type": "stream",
          "text": [
            "(3, 1, 9, 8, 9, 5, 1, 6, 0, 9, 6)\n"
          ],
          "name": "stdout"
        }
      ]
    },
    {
      "cell_type": "code",
      "metadata": {
        "colab": {
          "base_uri": "https://localhost:8080/",
          "height": 518
        },
        "id": "vxb_9BCf56gd",
        "outputId": "6604fe51-3b62-4d36-e57f-f35b35861918"
      },
      "source": [
        "# plots\n",
        "plt.rcParams['figure.figsize'] = (8,8)\n",
        "\n",
        "plt.rcParams['axes.titlesize'] = 20\n",
        "\n",
        "fig, ax = plt.subplots()\n",
        "\n",
        "ax.bar(num_tel, num_tel)\n",
        "\n",
        "# title\n",
        "ax.set(title = 'Número de telefone sem DDD')\n",
        "\n",
        "# add labels to the axes\n",
        "ax.set(xlabel = 'X', ylabel = 'Y')\n",
        "plt.savefig('my.png')"
      ],
      "execution_count": 35,
      "outputs": [
        {
          "output_type": "display_data",
          "data": {
            "image/png": "[encoded data removed]",
            "text/plain": [
              "<Figure size 576x576 with 1 Axes>"
            ]
          },
          "metadata": {
            "tags": [],
            "needs_background": "light"
          }
        }
      ]
    },
    {
      "cell_type": "code",
      "metadata": {
        "colab": {
          "base_uri": "https://localhost:8080/",
          "height": 518
        },
        "id": "uBjFHZkO82rV",
        "outputId": "789667b2-7b37-4663-c70f-68b7d1d09de6"
      },
      "source": [
        "# plots\n",
        "plt.rcParams['figure.figsize'] = (8,8)\n",
        "\n",
        "plt.rcParams['axes.titlesize'] = 20\n",
        "\n",
        "fig, ax = plt.subplots()\n",
        "\n",
        "ax.bar(num_tel_ddd, num_tel_ddd)\n",
        "\n",
        "# title\n",
        "ax.set(title = 'Número de telefone com DDD')\n",
        "\n",
        "# add labels to the axes\n",
        "ax.set(xlabel = 'X', ylabel = 'Y')\n",
        "plt.savefig('my.png')"
      ],
      "execution_count": 36,
      "outputs": [
        {
          "output_type": "display_data",
          "data": {
            "image/png": "[encoded data removed]",
            "text/plain": [
              "<Figure size 576x576 with 1 Axes>"
            ]
          },
          "metadata": {
            "tags": [],
            "needs_background": "light"
          }
        }
      ]
    }
  ]
}